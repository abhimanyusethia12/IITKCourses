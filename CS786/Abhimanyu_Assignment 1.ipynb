{
  "nbformat": 4,
  "nbformat_minor": 5,
  "metadata": {
    "kernelspec": {
      "display_name": "Python 3",
      "language": "python",
      "name": "python3"
    },
    "language_info": {
      "codemirror_mode": {
        "name": "ipython",
        "version": 3
      },
      "file_extension": ".py",
      "mimetype": "text/x-python",
      "name": "python",
      "nbconvert_exporter": "python",
      "pygments_lexer": "ipython3",
      "version": "3.9.1"
    },
    "colab": {
      "name": "190023 Abhimanyu Sethia_trial.ipynb",
      "provenance": [],
      "collapsed_sections": []
    },
    "accelerator": "GPU"
  },
  "cells": [
    {
      "cell_type": "code",
      "metadata": {
        "id": "normal-princess"
      },
      "source": [
        "import numpy as np\n",
        "import pandas as pd\n",
        "import matplotlib.pyplot as plt\n",
        "plt.style.use('fivethirtyeight')\n",
        "from copy import deepcopy"
      ],
      "id": "normal-princess",
      "execution_count": 54,
      "outputs": []
    },
    {
      "cell_type": "code",
      "metadata": {
        "colab": {
          "base_uri": "https://localhost:8080/"
        },
        "id": "wooden-stamp",
        "outputId": "e617f1f0-d998-4616-d50a-1382a728709b"
      },
      "source": [
        "!pip install brian2\r\n",
        "from brian2 import *"
      ],
      "id": "wooden-stamp",
      "execution_count": 55,
      "outputs": [
        {
          "output_type": "stream",
          "text": [
            "Requirement already satisfied: brian2 in /usr/local/lib/python3.6/dist-packages (2.4.2)\n",
            "Requirement already satisfied: cython>=0.29 in /usr/local/lib/python3.6/dist-packages (from brian2) (0.29.21)\n",
            "Requirement already satisfied: setuptools>=24.2 in /usr/local/lib/python3.6/dist-packages (from brian2) (53.0.0)\n",
            "Requirement already satisfied: numpy>=1.15 in /usr/local/lib/python3.6/dist-packages (from brian2) (1.19.5)\n",
            "Requirement already satisfied: pyparsing in /usr/local/lib/python3.6/dist-packages (from brian2) (2.4.7)\n",
            "Requirement already satisfied: jinja2>=2.7 in /usr/local/lib/python3.6/dist-packages (from brian2) (2.11.3)\n",
            "Requirement already satisfied: sympy>=1.2 in /usr/local/lib/python3.6/dist-packages (from brian2) (1.7.1)\n",
            "Requirement already satisfied: MarkupSafe>=0.23 in /usr/local/lib/python3.6/dist-packages (from jinja2>=2.7->brian2) (1.1.1)\n",
            "Requirement already satisfied: mpmath>=0.19 in /usr/local/lib/python3.6/dist-packages (from sympy>=1.2->brian2) (1.1.0)\n"
          ],
          "name": "stdout"
        }
      ]
    },
    {
      "cell_type": "markdown",
      "metadata": {
        "id": "compound-newman"
      },
      "source": [
        "## Integrate-and-fire neuron model"
      ],
      "id": "compound-newman"
    },
    {
      "cell_type": "markdown",
      "metadata": {
        "id": "turned-blocking"
      },
      "source": [
        "This is one of the simplest models of neuron behavior. It omits all the intricacies of what goes on electrochemically inside the neuron's body, and simply attempts to capture the basic 'accumulate till a threshold and then fire and let go of all the accumulation' aspect of a neuron's activity \n",
        "\n",
        "$$\\frac{dv}{dt} = \\frac{(v_0 - v)}{\\tau},$$\n",
        "\n",
        "where $v$ is the membrane voltage of the neuron, and $\\tau$ is a timescale factor."
      ],
      "id": "turned-blocking"
    },
    {
      "cell_type": "code",
      "metadata": {
        "id": "laden-sunglasses"
      },
      "source": [
        "v0 = 1\n",
        "tau = 10*ms\n",
        "eqs = '''\n",
        "dv/dt = (v0-v)/tau : 1\n",
        "'''"
      ],
      "id": "laden-sunglasses",
      "execution_count": 56,
      "outputs": []
    },
    {
      "cell_type": "code",
      "metadata": {
        "id": "unexpected-space"
      },
      "source": [
        "G = NeuronGroup(1, eqs, threshold='v>0.8', reset='v = 0', method='exact')\n",
        "M = StateMonitor(G, 'v', record=True)\n",
        "spikemon = SpikeMonitor(G)"
      ],
      "id": "unexpected-space",
      "execution_count": 57,
      "outputs": []
    },
    {
      "cell_type": "code",
      "metadata": {
        "colab": {
          "base_uri": "https://localhost:8080/",
          "height": 321
        },
        "id": "spread-march",
        "outputId": "8dffaf15-5997-432f-eaca-eeca2c34a0df"
      },
      "source": [
        "run(100*ms)\n",
        "plot(M.t/ms, M.v[0])\n",
        "xlabel('Time (ms)')\n",
        "ylabel('v')"
      ],
      "id": "spread-march",
      "execution_count": 58,
      "outputs": [
        {
          "output_type": "execute_result",
          "data": {
            "text/plain": [
              "Text(0, 0.5, 'v')"
            ]
          },
          "metadata": {
            "tags": []
          },
          "execution_count": 58
        },
        {
          "output_type": "display_data",
          "data": {
            "image/png": "[encoded data removed]",
            "text/plain": [
              "<Figure size 432x288 with 1 Axes>"
            ]
          },
          "metadata": {
            "tags": []
          }
        }
      ]
    },
    {
      "cell_type": "markdown",
      "metadata": {
        "id": "based-kelly"
      },
      "source": [
        "## Hopfield network model"
      ],
      "id": "based-kelly"
    },
    {
      "cell_type": "markdown",
      "metadata": {
        "id": "accessory-generic"
      },
      "source": [
        "In this simplified Hopfied model, each neuron can only take values +1 or -1. The network stores pixel patterns, and attempts to retrieve them given some cue in the form of a part of the original pattern used to set an initial state $S_i(t=0)$ for every neuron in the network. The network activation of all the neurons evolves as follows\n",
        "\n",
        "$$S_i(t+1) = sgn\\left(\\sum_j{w_{ij} S_j(t)}\\right), $$\n",
        "\n",
        "where the weight of every synaptic connection is calculated as,\n",
        "\n",
        "$$w_{ij} = \\frac{1}{N} \\sum_{\\mu}{p_i^\\mu p_j^\\mu}, $$\n",
        "\n",
        "where in turn, $N$ is the number of neurons, and $p_i^\\mu$ is the state of the $i^{th}$ neuron for encoding pattern $\\mu$."
      ],
      "id": "accessory-generic"
    },
    {
      "cell_type": "markdown",
      "metadata": {
        "id": "false-earth"
      },
      "source": [
        "The code below is taken from this [link](https://neuronaldynamics-exercises.readthedocs.io/en/latest/exercises/hopfield-network.html). Follow the accompanying exercises to be better prepared for your assignment. Remember to install all needed libraries before trying to run it. "
      ],
      "id": "false-earth"
    },
    {
      "cell_type": "code",
      "metadata": {
        "colab": {
          "base_uri": "https://localhost:8080/",
          "height": 734
        },
        "id": "several-documentation",
        "outputId": "99a1ba13-ef33-4a0b-be83-6c1ad96b7136"
      },
      "source": [
        "%matplotlib inline\n",
        "!pip install neurodynex3\n",
        "from neurodynex3.hopfield_network import network, pattern_tools, plot_tools\n",
        "\n",
        "pattern_size = 4\n",
        "\n",
        "# create an instance of the class HopfieldNetwork\n",
        "hopfield_net = network.HopfieldNetwork(nr_neurons= pattern_size**2)\n",
        "# instantiate a pattern factory\n",
        "factory = pattern_tools.PatternFactory(pattern_size, pattern_size)\n",
        "# create a checkerboard pattern and add it to the pattern list\n",
        "checkerboard = factory.create_checkerboard()\n",
        "pattern_list = [checkerboard]\n",
        "\n",
        "# add random patterns to the list\n",
        "pattern_list.extend(factory.create_random_pattern_list(nr_patterns=4, on_probability=0.5))\n",
        "plot_tools.plot_pattern_list(pattern_list)\n",
        "# how similar are the random patterns and the checkerboard? Check the overlaps\n",
        "overlap_matrix = pattern_tools.compute_overlap_matrix(pattern_list)\n",
        "#plot_tools.plot_overlap_matrix(overlap_matrix)\n",
        "\n",
        "# let the hopfield network \"learn\" the patterns. Note: they are not stored\n",
        "# explicitly but only network weights are updated !\n",
        "hopfield_net.store_patterns(pattern_list)\n",
        "\n",
        "# create a noisy version of a pattern and use that to initialize the network\n",
        "noisy_init_state = pattern_tools.flip_n(checkerboard, nr_of_flips=4)\n",
        "hopfield_net.set_state_from_pattern(noisy_init_state)\n",
        "\n",
        "# from this initial state, let the network dynamics evolve.\n",
        "states = hopfield_net.run_with_monitoring(nr_steps=3)\n",
        "\n",
        "# each network state is a vector. reshape it to the same shape used to create the patterns.\n",
        "states_as_patterns = factory.reshape_patterns(states)\n",
        "# plot the states of the network\n",
        "plot_tools.plot_state_sequence_and_overlap(states_as_patterns, pattern_list, reference_idx=0, suptitle=\"Network dynamics\")\n"
      ],
      "id": "several-documentation",
      "execution_count": 59,
      "outputs": [
        {
          "output_type": "stream",
          "text": [
            "Requirement already satisfied: neurodynex3 in /usr/local/lib/python3.6/dist-packages (1.0.2)\n",
            "Requirement already satisfied: brian2>=2.0 in /usr/local/lib/python3.6/dist-packages (from neurodynex3) (2.4.2)\n",
            "Requirement already satisfied: setuptools in /usr/local/lib/python3.6/dist-packages (from neurodynex3) (53.0.0)\n",
            "Requirement already satisfied: nose in /usr/local/lib/python3.6/dist-packages (from neurodynex3) (1.3.7)\n",
            "Requirement already satisfied: mpmath in /usr/local/lib/python3.6/dist-packages (from neurodynex3) (1.1.0)\n",
            "Requirement already satisfied: setuptools-scm in /usr/local/lib/python3.6/dist-packages (from neurodynex3) (5.0.1)\n",
            "Requirement already satisfied: mock in /usr/local/lib/python3.6/dist-packages (from neurodynex3) (4.0.3)\n",
            "Requirement already satisfied: scipy in /usr/local/lib/python3.6/dist-packages (from neurodynex3) (1.4.1)\n",
            "Requirement already satisfied: matplotlib in /usr/local/lib/python3.6/dist-packages (from neurodynex3) (3.2.2)\n",
            "Requirement already satisfied: sympy>=1.2 in /usr/local/lib/python3.6/dist-packages (from brian2>=2.0->neurodynex3) (1.7.1)\n",
            "Requirement already satisfied: cython>=0.29 in /usr/local/lib/python3.6/dist-packages (from brian2>=2.0->neurodynex3) (0.29.21)\n",
            "Requirement already satisfied: numpy>=1.15 in /usr/local/lib/python3.6/dist-packages (from brian2>=2.0->neurodynex3) (1.19.5)\n",
            "Requirement already satisfied: jinja2>=2.7 in /usr/local/lib/python3.6/dist-packages (from brian2>=2.0->neurodynex3) (2.11.3)\n",
            "Requirement already satisfied: pyparsing in /usr/local/lib/python3.6/dist-packages (from brian2>=2.0->neurodynex3) (2.4.7)\n",
            "Requirement already satisfied: python-dateutil>=2.1 in /usr/local/lib/python3.6/dist-packages (from matplotlib->neurodynex3) (2.8.1)\n",
            "Requirement already satisfied: kiwisolver>=1.0.1 in /usr/local/lib/python3.6/dist-packages (from matplotlib->neurodynex3) (1.3.1)\n",
            "Requirement already satisfied: cycler>=0.10 in /usr/local/lib/python3.6/dist-packages (from matplotlib->neurodynex3) (0.10.0)\n",
            "Requirement already satisfied: MarkupSafe>=0.23 in /usr/local/lib/python3.6/dist-packages (from jinja2>=2.7->brian2>=2.0->neurodynex3) (1.1.1)\n",
            "Requirement already satisfied: six>=1.5 in /usr/local/lib/python3.6/dist-packages (from python-dateutil>=2.1->matplotlib->neurodynex3) (1.15.0)\n"
          ],
          "name": "stdout"
        },
        {
          "output_type": "display_data",
          "data": {
            "image/png": "[encoded data removed]",
            "text/plain": [
              "<Figure size 432x288 with 5 Axes>"
            ]
          },
          "metadata": {
            "tags": [],
            "needs_background": "light"
          }
        },
        {
          "output_type": "stream",
          "text": [
            "\n"
          ],
          "name": "stdout"
        },
        {
          "output_type": "display_data",
          "data": {
            "image/png": "[encoded data removed]",
            "text/plain": [
              "<Figure size 432x288 with 8 Axes>"
            ]
          },
          "metadata": {
            "tags": [],
            "needs_background": "light"
          }
        }
      ]
    },
    {
      "cell_type": "markdown",
      "metadata": {
        "id": "upset-embassy"
      },
      "source": [
        "## Our own Hopfield network model"
      ],
      "id": "upset-embassy"
    },
    {
      "cell_type": "markdown",
      "metadata": {
        "id": "spectacular-morocco"
      },
      "source": [
        "You will write your own code to build a Hopfield network. I am leaving sample expected results below as a guide. "
      ],
      "id": "spectacular-morocco"
    },
    {
      "cell_type": "code",
      "metadata": {
        "colab": {
          "base_uri": "https://localhost:8080/",
          "height": 87
        },
        "id": "sunrise-glucose",
        "outputId": "1f447298-1bb1-49ff-e606-3ffd6832778e"
      },
      "source": [
        "'''\n",
        "plist = get_patterns(4,5)\n",
        "#plot_tools.plot_pattern_list(plist)\n",
        "\n",
        "cue = deepcopy(plist)\n",
        "\n",
        "S = perturb_pattern(cue[0],3)\n",
        "wghts = calculate_weights(plist, pattern_size)\n",
        "\n",
        "state_list =[S]\n",
        "#state_list.append(S)\n",
        "#print(state_list)\n",
        "#plot_tools.plot_pattern(S)\n",
        "for i in range(3):\n",
        "    state_list.append(network_evolution(S,wghts))\n",
        "#    state_list.append(S)\n",
        "\n",
        "plot_tools.plot_pattern_list(plist)\n",
        "#print(state_list[0])\n",
        "plot_tools.plot_pattern(state_list[0])\n",
        "plot_tools.plot_state_sequence_and_overlap(state_list, plist, reference_idx=0, suptitle=\"Network dynamics\")\n",
        "'''"
      ],
      "id": "sunrise-glucose",
      "execution_count": 60,
      "outputs": [
        {
          "output_type": "execute_result",
          "data": {
            "application/vnd.google.colaboratory.intrinsic+json": {
              "type": "string"
            },
            "text/plain": [
              "'\\nplist = get_patterns(4,5)\\n#plot_tools.plot_pattern_list(plist)\\n\\ncue = deepcopy(plist)\\n\\nS = perturb_pattern(cue[0],3)\\nwghts = calculate_weights(plist, pattern_size)\\n\\nstate_list =[S]\\n#state_list.append(S)\\n#print(state_list)\\n#plot_tools.plot_pattern(S)\\nfor i in range(3):\\n    state_list.append(network_evolution(S,wghts))\\n#    state_list.append(S)\\n\\nplot_tools.plot_pattern_list(plist)\\n#print(state_list[0])\\nplot_tools.plot_pattern(state_list[0])\\nplot_tools.plot_state_sequence_and_overlap(state_list, plist, reference_idx=0, suptitle=\"Network dynamics\")\\n'"
            ]
          },
          "metadata": {
            "tags": []
          },
          "execution_count": 60
        }
      ]
    },
    {
      "cell_type": "markdown",
      "metadata": {
        "id": "involved-batman"
      },
      "source": [
        "# Assignment 1"
      ],
      "id": "involved-batman"
    },
    {
      "cell_type": "markdown",
      "metadata": {
        "id": "fRaZdzeN8Xu8"
      },
      "source": [
        "## Question 1\r\n",
        "Can you write you own Hopfield network model that works more or less like the one simulated above? (20 points)"
      ],
      "id": "fRaZdzeN8Xu8"
    },
    {
      "cell_type": "code",
      "metadata": {
        "id": "1GXo_wv08zVP"
      },
      "source": [
        "#get_patterns-> generates random patterns with equal probability of both colours\r\n",
        "def get_patterns(size, no_of_patterns):\r\n",
        "    plist = []\r\n",
        "    for i in range(no_of_patterns):\r\n",
        "        pattern = np.zeros((size,size))\r\n",
        "        for j in range(size):\r\n",
        "            for k in range(size):\r\n",
        "                pattern[j][k] = np.random.choice([-1,1],p=[0.5,0.5])\r\n",
        "        plist.append(pattern)\r\n",
        "    return plist"
      ],
      "id": "1GXo_wv08zVP",
      "execution_count": 61,
      "outputs": []
    },
    {
      "cell_type": "code",
      "metadata": {
        "id": "t-6bw7249vf0"
      },
      "source": [
        "#perturb_pattern-> generates a noisy cue from given pattern \r\n",
        "def perturb_pattern(pattern, no_of_flips):\r\n",
        "    pattern_size = np.size(pattern[0])\r\n",
        "    S = pattern\r\n",
        "    i = np.random.choice(pattern_size**2,no_of_flips,replace=False) #i = random index\r\n",
        "    for j in range(no_of_flips): #flips no_of_flips values\r\n",
        "        S[i[j]//pattern_size][i[j]%pattern_size] = -S[i[j]//pattern_size][i[j]%pattern_size]  \r\n",
        "    return S"
      ],
      "id": "t-6bw7249vf0",
      "execution_count": 62,
      "outputs": []
    },
    {
      "cell_type": "code",
      "metadata": {
        "id": "g0iRgDnV-V8T"
      },
      "source": [
        "#calculate_weights-> gives weights \r\n",
        "def calculate_weights(plist, pattern_size):\r\n",
        "    wghts = np.zeros((pattern_size**2,pattern_size**2))\r\n",
        "    for i in range(len(plist)):\r\n",
        "        for j in range(pattern_size**2):\r\n",
        "            for k in range(pattern_size**2):\r\n",
        "                wghts[j][k] += plist[i][j//pattern_size][j%pattern_size]*plist[i][k//pattern_size][k%pattern_size]                \r\n",
        "    return wghts/pattern_size**2"
      ],
      "id": "g0iRgDnV-V8T",
      "execution_count": 63,
      "outputs": []
    },
    {
      "cell_type": "code",
      "metadata": {
        "id": "cdy1tk3f-6k-"
      },
      "source": [
        "#network_evolution-> updates the state_list using given weights\r\n",
        "def network_evolution(S, wghts):\r\n",
        "    S_new = deepcopy(S)\r\n",
        "    pattern_size = len(S[0])\r\n",
        "    for i in range(pattern_size**2):\r\n",
        "        temp = 0 \r\n",
        "        for j in range(pattern_size**2):\r\n",
        "            temp += wghts[i][j]*S[j//pattern_size][j%pattern_size]\r\n",
        "        S_new[i//pattern_size][i%pattern_size] = np.sign(temp)\r\n",
        "    return S_new"
      ],
      "id": "cdy1tk3f-6k-",
      "execution_count": 64,
      "outputs": []
    },
    {
      "cell_type": "code",
      "metadata": {
        "id": "secure-barbados"
      },
      "source": [
        "#computing_overlap-> gives overlap between two patterns (code taken from the neurodynex documentation)\r\n",
        "def compute_overlap(pattern1, pattern2):\r\n",
        "    shape1 = pattern1.shape\r\n",
        "    if shape1 != pattern2.shape:\r\n",
        "        raise ValueError(\"patterns are not of equal shape\")\r\n",
        "    dot_prod = np.dot(pattern1.flatten(), pattern2.flatten())\r\n",
        "    return float(dot_prod)/(np.prod(shape1))"
      ],
      "id": "secure-barbados",
      "execution_count": 65,
      "outputs": []
    },
    {
      "cell_type": "code",
      "metadata": {
        "id": "4ZXm6-D5DH45"
      },
      "source": [
        "#one_run-> runs the network once, \r\n",
        "#returns value of overlap between the cue and the original pattern, plist and state_list\r\n",
        "def one_run(pattern_size, no_of_patterns, no_of_flips, no_of_iters):\r\n",
        "    plist = get_patterns(pattern_size,no_of_patterns)\r\n",
        "    cue = deepcopy(plist)\r\n",
        "    S = perturb_pattern(cue[0],no_of_flips)\r\n",
        "    wghts = calculate_weights(plist, pattern_size)\r\n",
        "    state_list =[]\r\n",
        "    state_list.append(S)\r\n",
        "\r\n",
        "    for i in range(no_of_iters):\r\n",
        "        state_list.append(network_evolution(S,wghts))\r\n",
        "        S = state_list[-1]\r\n",
        "      \r\n",
        "    return compute_overlap(S, plist[0]) , plist, state_list\r\n"
      ],
      "id": "4ZXm6-D5DH45",
      "execution_count": 66,
      "outputs": []
    },
    {
      "cell_type": "code",
      "metadata": {
        "colab": {
          "base_uri": "https://localhost:8080/",
          "height": 653
        },
        "id": "rPOw7htSJC0u",
        "outputId": "c97e8d6d-665a-492e-9373-dcf194a7ae8b"
      },
      "source": [
        "#plotting\r\n",
        "overlap, plist, state_list = one_run(5,4,5,4)\r\n",
        "plot_tools.plot_pattern_list(plist)\r\n",
        "plot_tools.plot_pattern(state_list[0])\r\n",
        "plot_tools.plot_state_sequence_and_overlap(state_list, plist, reference_idx=0, suptitle=\"Network dynamics\")\r\n"
      ],
      "id": "rPOw7htSJC0u",
      "execution_count": 67,
      "outputs": [
        {
          "output_type": "display_data",
          "data": {
            "image/png": "[encoded data removed]",
            "text/plain": [
              "<Figure size 432x288 with 4 Axes>"
            ]
          },
          "metadata": {
            "tags": [],
            "needs_background": "light"
          }
        },
        {
          "output_type": "display_data",
          "data": {
            "image/png": "[encoded data removed]",
            "text/plain": [
              "<Figure size 432x288 with 1 Axes>"
            ]
          },
          "metadata": {
            "tags": [],
            "needs_background": "light"
          }
        },
        {
          "output_type": "stream",
          "text": [
            "\n"
          ],
          "name": "stdout"
        },
        {
          "output_type": "display_data",
          "data": {
            "image/png": "[encoded data removed]",
            "text/plain": [
              "<Figure size 432x288 with 10 Axes>"
            ]
          },
          "metadata": {
            "tags": [],
            "needs_background": "light"
          }
        }
      ]
    },
    {
      "cell_type": "markdown",
      "metadata": {
        "id": "omPGwSUP6xdp"
      },
      "source": [
        "## Question 2\r\n",
        "Run the model with different parameters to figure out how the model's capacity to retrieve the correct pattern in response to a cue deteriorates as a function of \r\n",
        "\r\n",
        "(a) the informativeness of the cue\r\n",
        "\r\n",
        "(b) the number of other patterns stored in the network\r\n",
        "\r\n",
        "(c) the size of the network\r\n"
      ],
      "id": "omPGwSUP6xdp"
    },
    {
      "cell_type": "code",
      "metadata": {
        "id": "9QfaNrD46wS-"
      },
      "source": [
        "#run_multiple-> runs the network for different parameters\r\n",
        "def multiple_run(pattern_size, no_of_patterns, max_flips, no_of_runs):\r\n",
        "    mlist = []\r\n",
        "    no_of_iters = 5\r\n",
        "    for flips in range(1,max_flips+1):\r\n",
        "        avg_acc = 0\r\n",
        "        for j in range(no_of_runs):\r\n",
        "            avg_acc += one_run(pattern_size, no_of_patterns, flips, no_of_iters)[0] #gives average of accuracy over no_of_runs runs\r\n",
        "        avg_acc = avg_acc/no_of_runs\r\n",
        "        mlist.append(avg_acc)\r\n",
        "        if (flips%10==0):\r\n",
        "            print('#pattern: '+str(no_of_patterns)+', #flips:'+str(flips)+', accuracy: ',str(avg_acc))\r\n",
        "    return mlist"
      ],
      "id": "9QfaNrD46wS-",
      "execution_count": 68,
      "outputs": []
    },
    {
      "cell_type": "code",
      "metadata": {
        "id": "UE_PkCvXK0Sm"
      },
      "source": [
        "#plot_acc_vs_flips -> plots accuracy against the number of perturbs\r\n",
        "def plot_acc_vs_flips(pattern_size, max_flips, no_of_runs):    \r\n",
        "    labels = []\r\n",
        "    acc_list = []\r\n",
        "    for no_of_patterns in range(5, 30, 5):\r\n",
        "        acc = multiple_run(pattern_size, no_of_patterns, max_flips, no_of_runs)\r\n",
        "        acc_list.append(acc)\r\n",
        "        plt.plot(acc,linewidth=0.8)\r\n",
        "        labels.append(str(no_of_patterns)+' patterns')\r\n",
        "    plt.legend(labels, loc='upper right')\r\n",
        "    plt.xlabel('Number of perturbs')\r\n",
        "    plt.ylabel('Accuracy')\r\n",
        "    return acc_list\r\n",
        "  "
      ],
      "id": "UE_PkCvXK0Sm",
      "execution_count": 69,
      "outputs": []
    },
    {
      "cell_type": "code",
      "metadata": {
        "colab": {
          "base_uri": "https://localhost:8080/",
          "height": 1000
        },
        "id": "ZqHaqgoE7alo",
        "outputId": "a4a9c7e0-694c-4bff-c4eb-c6f1d4132ff7"
      },
      "source": [
        "acc_list = plot_acc_vs_flips(10, 100, 5)"
      ],
      "id": "ZqHaqgoE7alo",
      "execution_count": 70,
      "outputs": [
        {
          "output_type": "stream",
          "text": [
            "#pattern: 5, #flips:10, accuracy:  1.0\n",
            "#pattern: 5, #flips:20, accuracy:  1.0\n",
            "#pattern: 5, #flips:30, accuracy:  1.0\n",
            "#pattern: 5, #flips:40, accuracy:  0.496\n",
            "#pattern: 5, #flips:50, accuracy:  -0.144\n",
            "#pattern: 5, #flips:60, accuracy:  -0.624\n",
            "#pattern: 5, #flips:70, accuracy:  -1.0\n",
            "#pattern: 5, #flips:80, accuracy:  -1.0\n",
            "#pattern: 5, #flips:90, accuracy:  -1.0\n",
            "#pattern: 5, #flips:100, accuracy:  -1.0\n",
            "#pattern: 10, #flips:10, accuracy:  1.0\n",
            "#pattern: 10, #flips:20, accuracy:  1.0\n",
            "#pattern: 10, #flips:30, accuracy:  0.9879999999999999\n",
            "#pattern: 10, #flips:40, accuracy:  0.512\n",
            "#pattern: 10, #flips:50, accuracy:  -0.024\n",
            "#pattern: 10, #flips:60, accuracy:  -0.42800000000000005\n",
            "#pattern: 10, #flips:70, accuracy:  -0.976\n",
            "#pattern: 10, #flips:80, accuracy:  -0.9359999999999999\n",
            "#pattern: 10, #flips:90, accuracy:  -0.992\n",
            "#pattern: 10, #flips:100, accuracy:  -1.0\n",
            "#pattern: 15, #flips:10, accuracy:  0.968\n",
            "#pattern: 15, #flips:20, accuracy:  0.9879999999999999\n",
            "#pattern: 15, #flips:30, accuracy:  0.952\n",
            "#pattern: 15, #flips:40, accuracy:  0.388\n",
            "#pattern: 15, #flips:50, accuracy:  -0.036\n",
            "#pattern: 15, #flips:60, accuracy:  -0.40800000000000003\n",
            "#pattern: 15, #flips:70, accuracy:  -0.6519999999999999\n",
            "#pattern: 15, #flips:80, accuracy:  -0.9960000000000001\n",
            "#pattern: 15, #flips:90, accuracy:  -0.9280000000000002\n",
            "#pattern: 15, #flips:100, accuracy:  -1.0\n",
            "#pattern: 20, #flips:10, accuracy:  0.9640000000000001\n",
            "#pattern: 20, #flips:20, accuracy:  0.932\n",
            "#pattern: 20, #flips:30, accuracy:  0.7120000000000001\n",
            "#pattern: 20, #flips:40, accuracy:  0.48\n",
            "#pattern: 20, #flips:50, accuracy:  0.1\n",
            "#pattern: 20, #flips:60, accuracy:  -0.316\n",
            "#pattern: 20, #flips:70, accuracy:  -0.6639999999999999\n",
            "#pattern: 20, #flips:80, accuracy:  -0.8480000000000001\n",
            "#pattern: 20, #flips:90, accuracy:  -0.9279999999999999\n",
            "#pattern: 20, #flips:100, accuracy:  -0.984\n",
            "#pattern: 25, #flips:10, accuracy:  0.944\n",
            "#pattern: 25, #flips:20, accuracy:  0.8\n",
            "#pattern: 25, #flips:30, accuracy:  0.5959999999999999\n",
            "#pattern: 25, #flips:40, accuracy:  0.34800000000000003\n",
            "#pattern: 25, #flips:50, accuracy:  -0.028000000000000004\n",
            "#pattern: 25, #flips:60, accuracy:  -0.344\n",
            "#pattern: 25, #flips:70, accuracy:  -0.624\n",
            "#pattern: 25, #flips:80, accuracy:  -0.8479999999999999\n",
            "#pattern: 25, #flips:90, accuracy:  -0.9119999999999999\n",
            "#pattern: 25, #flips:100, accuracy:  -0.984\n"
          ],
          "name": "stdout"
        },
        {
          "output_type": "display_data",
          "data": {
            "image/png": "[encoded data removed]",
            "text/plain": [
              "<Figure size 432x288 with 1 Axes>"
            ]
          },
          "metadata": {
            "tags": [],
            "needs_background": "light"
          }
        }
      ]
    },
    {
      "cell_type": "code",
      "metadata": {
        "id": "mmvenJ1knOZ_"
      },
      "source": [
        "def run_multiple_2(pattern_size, no_of_patterns, no_of_flips, no_of_runs):\r\n",
        "    no_of_iters = 5\r\n",
        "    avg_acc = 0\r\n",
        "    for j in range(no_of_runs): #averaging accuracy over the given number of runs\r\n",
        "        avg_acc += one_run(pattern_size, no_of_patterns, no_of_flips, no_of_iters) \r\n",
        "    avg_acc = avg_acc/no_of_runs\r\n",
        "    print(str(pattern_size)+':'+str(avg_acc))\r\n",
        "    return avg_acc\r\n",
        "\r\n",
        "def plot_acc_vs_size(max_size, no_of_patterns, percent_flips, no_of_runs):\r\n",
        "  acc = []\r\n",
        "  for pattern_size in range(5,max_size+1):\r\n",
        "    no_of_flips = (int)(percent_flips*pattern_size*pattern_size)\r\n",
        "    acc.append(run_multiple_2(pattern_size, no_of_patterns, no_of_flips, no_of_runs))\r\n",
        "  \r\n",
        "  return acc\r\n",
        "acc = plot_acc_vs_size(50,5,0.45,5)"
      ],
      "id": "mmvenJ1knOZ_",
      "execution_count": 73,
      "outputs": []
    },
    {
      "cell_type": "markdown",
      "metadata": {
        "id": "qBab9t0jj95J"
      },
      "source": [
        "### 2(a)\r\n",
        "**Observation 1**: Increase in number of flips leads to decrease in accuracy (for constant number of patterns stored in memory)\r\n",
        "\r\n",
        "Explanation: Increase in number of flips => cue is more different from the original pattern => accuracy is bound to decrease\r\n",
        "\r\n",
        "**Observation 2**: When number of flips is nearly the number of neurons in the pattern, accuracy dips to -1.\r\n",
        "\r\n",
        "Explanation: 100% flipping essentially means giving a cue which is complement of the original pattern. Hence, -1 accuracy is understandable. "
      ],
      "id": "qBab9t0jj95J"
    },
    {
      "cell_type": "markdown",
      "metadata": {
        "id": "yLzcmqhblO9j"
      },
      "source": [
        "### 2(b)\r\n",
        "\r\n",
        "**Observation 1:** Model diverges for smaller flip values as the number of patterns in memory increase.\r\n",
        "\r\n",
        "Explanation: Higher number of patterns confuse the model, as the perturbed cue would find similarity with annother pattern.\r\n",
        "\r\n",
        "**Observation 2:** As number of patterns increase, drop in accuracy becomes more gradual. That is, when the number of patterns are less, the drop in accuracy is sharper.\r\n",
        "\r\n",
        "Explanation: I am not very sure about this. But seems like for a smaller number of patterns in the network, the model is either very confident about the cue-pattern match or very confident that the cue does not match the pattern."
      ],
      "id": "yLzcmqhblO9j"
    },
    {
      "cell_type": "markdown",
      "metadata": {
        "id": "qE5Qrf_fnyX-"
      },
      "source": [
        "## 2(c)\r\n",
        "\r\n",
        "**Observation** : As size of network increases, accuracy increases. "
      ],
      "id": "qE5Qrf_fnyX-"
    },
    {
      "cell_type": "markdown",
      "metadata": {
        "id": "IJS_7HfH7TtL"
      },
      "source": [
        "## Question 3\r\n",
        "Can you write a function that converts MNIST digit [data](https://gitlab.com/datapythonista/mnist) to the sort of patterns used in this simulation? (20 points)"
      ],
      "id": "IJS_7HfH7TtL"
    },
    {
      "cell_type": "code",
      "metadata": {
        "id": "MLs6WpP1W5TP"
      },
      "source": [
        "#loads MNIST dataset\r\n",
        "from tensorflow import keras\r\n",
        "from tensorflow.keras import layers\r\n",
        "(X_train,y_train),(X_test,y_test)=keras.datasets.mnist.load_data()"
      ],
      "id": "MLs6WpP1W5TP",
      "execution_count": 74,
      "outputs": []
    },
    {
      "cell_type": "code",
      "metadata": {
        "id": "XDl99VyCYOAt"
      },
      "source": [
        "#preprocessing MNIST dataset\r\n",
        "# Taken from https://fsix.github.io/mnist/Deskewing.html\r\n",
        "\r\n",
        "from PIL import Image\r\n",
        "\r\n",
        "def moments(image):\r\n",
        "    c0,c1 = np.mgrid[:image.shape[0],:image.shape[1]] # A trick in numPy to create a mesh grid\r\n",
        "    totalImage = np.sum(image) #sum of pixels\r\n",
        "    m0 = np.sum(c0*image)/totalImage #mu_x\r\n",
        "    m1 = np.sum(c1*image)/totalImage #mu_y\r\n",
        "    m00 = np.sum((c0-m0)**2*image)/totalImage #var(x)\r\n",
        "    m11 = np.sum((c1-m1)**2*image)/totalImage #var(y)\r\n",
        "    m01 = np.sum((c0-m0)*(c1-m1)*image)/totalImage #covariance(x,y)\r\n",
        "    mu_vector = np.array([m0,m1]) # Notice that these are \\mu_x, \\mu_y respectively\r\n",
        "    covariance_matrix = np.array([[m00,m01],[m01,m11]]) # Do you see a similarity between the covariance matrix\r\n",
        "    return mu_vector, covariance_matrix\r\n",
        "\r\n",
        "def deskew(image):\r\n",
        "    c,v = moments(image)\r\n",
        "    alpha = v[0,1]/v[0,0]\r\n",
        "    affine = np.array([[1,0],[alpha,1]])\r\n",
        "    ocenter = np.array(image.shape)/2.0\r\n",
        "    offset = c-np.dot(affine,ocenter)\r\n",
        "\r\n",
        "    return interpolation.affine_transform(image,affine,offset=offset)\r\n",
        "\r\n",
        "def crop_image_only_outside(img,tol=0): #tol refers to tolerance\r\n",
        "    imageBox = Image.fromarray(img).getbbox()\r\n",
        "    cropped = Image.fromarray(img).crop(imageBox)\r\n",
        "    return cropped\r\n",
        "\r\n",
        "def mnist_data_preprocessing(j, pattern_size=14,threshold=40):\r\n",
        "    image=X_train[j]\r\n",
        "    image=deskew(X_train[j])\r\n",
        "    image= crop_image_only_outside(image)\r\n",
        "    pat_max=np.array( image).shape\r\n",
        "    im1=np.array(image)\r\n",
        "    if(pattern_size==28):\r\n",
        "      im = (np.array(Image.fromarray(im1).resize(size=(pat_max[0], pat_max[0]))))      \r\n",
        "    else:  \r\n",
        "      im = (np.array(Image.fromarray(im1).resize(size=(pattern_size, pattern_size))))\r\n",
        "    im=(im>threshold)*1  \r\n",
        "    im[im==0]=-1  \r\n",
        "    return im"
      ],
      "id": "XDl99VyCYOAt",
      "execution_count": 75,
      "outputs": []
    },
    {
      "cell_type": "code",
      "metadata": {
        "colab": {
          "base_uri": "https://localhost:8080/",
          "height": 322
        },
        "id": "FIiNdFRpW0WJ",
        "outputId": "8767c95f-21ef-42d1-92e6-1a975dfc4652"
      },
      "source": [
        "#get_patterns_MNIST_trainset-> get MNIST patterns for training set\r\n",
        "def get_patterns_MNIST_trainset(pattern_size=14, pattern_per_digit=1, threshold=90):\r\n",
        "  pattern_list=[]\r\n",
        "  n_patterns=10\r\n",
        "  for i in range(10):\r\n",
        "        indices = np.nonzero(y_train == i)[0][:pattern_per_digit]\r\n",
        "\r\n",
        "        for j in indices:\r\n",
        "            \r\n",
        "            im = mnist_data_preprocessing(j, pattern_size, threshold)             \r\n",
        "            pattern_list.append(im)\r\n",
        "    \r\n",
        "  pattern_list = random.sample(pattern_list, len(pattern_list)) \r\n",
        "  plot_tools.plot_pattern_list(plist)\r\n",
        "  return pattern_list\r\n",
        "\r\n",
        "plist = get_patterns_MNIST_trainset(pattern_size=10,pattern_per_digit=2)"
      ],
      "id": "FIiNdFRpW0WJ",
      "execution_count": 76,
      "outputs": [
        {
          "output_type": "error",
          "ename": "AttributeError",
          "evalue": "ignored",
          "traceback": [
            "\u001b[0;31m---------------------------------------------------------------------------\u001b[0m",
            "\u001b[0;31mAttributeError\u001b[0m                            Traceback (most recent call last)",
            "\u001b[0;32m<ipython-input-76-3c8a00813c1c>\u001b[0m in \u001b[0;36m<module>\u001b[0;34m()\u001b[0m\n\u001b[1;32m     15\u001b[0m   \u001b[0;32mreturn\u001b[0m \u001b[0mpattern_list\u001b[0m\u001b[0;34m\u001b[0m\u001b[0;34m\u001b[0m\u001b[0m\n\u001b[1;32m     16\u001b[0m \u001b[0;34m\u001b[0m\u001b[0m\n\u001b[0;32m---> 17\u001b[0;31m \u001b[0mplist\u001b[0m \u001b[0;34m=\u001b[0m \u001b[0mget_patterns_MNIST_trainset\u001b[0m\u001b[0;34m(\u001b[0m\u001b[0mpattern_size\u001b[0m\u001b[0;34m=\u001b[0m\u001b[0;36m10\u001b[0m\u001b[0;34m,\u001b[0m\u001b[0mpattern_per_digit\u001b[0m\u001b[0;34m=\u001b[0m\u001b[0;36m2\u001b[0m\u001b[0;34m)\u001b[0m\u001b[0;34m\u001b[0m\u001b[0;34m\u001b[0m\u001b[0m\n\u001b[0m",
            "\u001b[0;32m<ipython-input-76-3c8a00813c1c>\u001b[0m in \u001b[0;36mget_patterns_MNIST_trainset\u001b[0;34m(pattern_size, pattern_per_digit, threshold)\u001b[0m\n\u001b[1;32m     11\u001b[0m             \u001b[0mpattern_list\u001b[0m\u001b[0;34m.\u001b[0m\u001b[0mappend\u001b[0m\u001b[0;34m(\u001b[0m\u001b[0mim\u001b[0m\u001b[0;34m)\u001b[0m\u001b[0;34m\u001b[0m\u001b[0;34m\u001b[0m\u001b[0m\n\u001b[1;32m     12\u001b[0m \u001b[0;34m\u001b[0m\u001b[0m\n\u001b[0;32m---> 13\u001b[0;31m   \u001b[0mpattern_list\u001b[0m \u001b[0;34m=\u001b[0m \u001b[0mrandom\u001b[0m\u001b[0;34m.\u001b[0m\u001b[0msample\u001b[0m\u001b[0;34m(\u001b[0m\u001b[0mpattern_list\u001b[0m\u001b[0;34m,\u001b[0m \u001b[0mlen\u001b[0m\u001b[0;34m(\u001b[0m\u001b[0mpattern_list\u001b[0m\u001b[0;34m)\u001b[0m\u001b[0;34m)\u001b[0m\u001b[0;34m\u001b[0m\u001b[0;34m\u001b[0m\u001b[0m\n\u001b[0m\u001b[1;32m     14\u001b[0m   \u001b[0mplot_tools\u001b[0m\u001b[0;34m.\u001b[0m\u001b[0mplot_pattern_list\u001b[0m\u001b[0;34m(\u001b[0m\u001b[0mplist\u001b[0m\u001b[0;34m)\u001b[0m\u001b[0;34m\u001b[0m\u001b[0;34m\u001b[0m\u001b[0m\n\u001b[1;32m     15\u001b[0m   \u001b[0;32mreturn\u001b[0m \u001b[0mpattern_list\u001b[0m\u001b[0;34m\u001b[0m\u001b[0;34m\u001b[0m\u001b[0m\n",
            "\u001b[0;31mAttributeError\u001b[0m: 'builtin_function_or_method' object has no attribute 'sample'"
          ]
        }
      ]
    },
    {
      "cell_type": "code",
      "metadata": {
        "id": "gNss9CdQZ8bJ"
      },
      "source": [
        "#get_patterns_MNIST_testset -> returns test set, containing testsize number of items\r\n",
        "def get_patterns_MNIST_testset(pattern_size=14, testsize=1000, testThreshold=98):\r\n",
        "  xtest= []\r\n",
        "  ytest= []\r\n",
        "  \r\n",
        "  for i in range(testsize):\r\n",
        "    xtest.append(mnist_data_preprocessing_test(i, pattern_size,testThreshold))\r\n",
        "  ytest=y_test[:testsize]\r\n",
        "\r\n",
        "  return xtest,ytest"
      ],
      "id": "gNss9CdQZ8bJ",
      "execution_count": 77,
      "outputs": []
    },
    {
      "cell_type": "code",
      "metadata": {
        "id": "Bnk8P1EoZ5ld"
      },
      "source": [
        "#get_patterns_MNIST->returns plist and test dataset\r\n",
        "def get_patterns_MNIST(pattern_size=14,n_patterns=2, testsize=1000, memThreshold=40, testThreshold=38):\r\n",
        "  \r\n",
        "  plist=get_patterns_MNIST_trainset(pattern_size,n_patterns, memThreshold)\r\n",
        "  xtest,ytest=get_patterns_MNIST_testset(pattern_size, testsize, testThreshold)\r\n",
        "  return plist,xtest,ytest "
      ],
      "id": "Bnk8P1EoZ5ld",
      "execution_count": 78,
      "outputs": []
    },
    {
      "cell_type": "markdown",
      "metadata": {
        "id": "sw8IaFjdOXUd"
      },
      "source": [
        "## Question 4\r\n",
        "Can you write an MNIST classifier using the Hopfield network?. Can you characterize its performance using F-score, and compare with [classical](https://github.com/ksopyla/svm_mnist_digit_classification) and [deep](https://github.com/hwalsuklee/tensorflow-mnist-cnn) supervised learning methods? Remember that you can always use multiple samples of the same digit even for the Hopfield network classifier. Summarize your sense of the merits and demerits of using a Hopfield network as a classifier (40 points) "
      ],
      "id": "sw8IaFjdOXUd"
    },
    {
      "cell_type": "markdown",
      "metadata": {
        "id": "C3eSrIkMoX6T"
      },
      "source": [
        "**Demerits**: We do not make use of the entire training set, and as a result, the efficiency of our model depends on the random images we choose. As digits belonging to the same class can be very different from each other, this might lead to poor results.\r\n",
        "\r\n",
        "**Merit:** An apparent merit of the Hopfield network is that it does not need to be trained, the weights are calculated only once and as a result, the model is much faster than a classical/deep supervised learning models."
      ],
      "id": "C3eSrIkMoX6T"
    },
    {
      "cell_type": "markdown",
      "metadata": {
        "id": "O_Hlw8CScofH"
      },
      "source": [
        "## Acknowledgements \r\n",
        "\r\n",
        "\r\n",
        "1.   https://fsix.github.io/mnist/Deskewing.html\r\n",
        "2.   https://neuronaldynamics-exercises.readthedocs.io/en/latest/\r\n",
        "3. Discussed code and ideas with Urbi and Aayush\r\n",
        "\r\n"
      ],
      "id": "O_Hlw8CScofH"
    }
  ]
}